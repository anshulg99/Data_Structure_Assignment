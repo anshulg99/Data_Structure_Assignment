{
  "nbformat": 4,
  "nbformat_minor": 0,
  "metadata": {
    "colab": {
      "provenance": []
    },
    "kernelspec": {
      "name": "python3",
      "display_name": "Python 3"
    },
    "language_info": {
      "name": "python"
    }
  },
  "cells": [
    {
      "cell_type": "markdown",
      "source": [
        "Data Structure Theoretical Question"
      ],
      "metadata": {
        "id": "93RdVStqnyaA"
      }
    },
    {
      "cell_type": "code",
      "execution_count": null,
      "metadata": {
        "id": "2iN96eXccq9K"
      },
      "outputs": [],
      "source": [
        "# 1Q"
      ]
    },
    {
      "cell_type": "markdown",
      "source": [
        "Data Types and Structures - Theoretical Questions\n"
      ],
      "metadata": {
        "id": "qZX0Aijtcr01"
      }
    },
    {
      "cell_type": "markdown",
      "source": [
        "1. What are data structures, and why are they important?\n",
        "\n",
        "   Ans.- Data structures are specialized formats for organizing, storing, and managing data efficiently. They are important because they optimize performance for data operations like searching, inserting, and deleting, improving efficiency in programming and algorithms.\n",
        "\n"
      ],
      "metadata": {
        "id": "OLsByhgKc0fA"
      }
    },
    {
      "cell_type": "code",
      "source": [
        "#2.Q"
      ],
      "metadata": {
        "id": "F8jP9_dKcyoD"
      },
      "execution_count": null,
      "outputs": []
    },
    {
      "cell_type": "markdown",
      "source": [
        "2. Explain the difference between mutable and immutable data types with examples.\n",
        "\n",
        "   ans.-\n",
        "   Mutable data types can be modified after creation (e.g., lists, dictionaries, sets in Python).\n",
        "\n",
        "  Immutable data types cannot be changed once created (e.g., strings, tuples, integers in Python).\n",
        "\n"
      ],
      "metadata": {
        "id": "g3_I-HVkdtuM"
      }
    },
    {
      "cell_type": "code",
      "source": [
        "# Example\n",
        "my_list = [1, 2, 3]  # Mutable\n",
        "my_list.append(4)  # Modifies the list\n",
        "\n",
        "my_tuple = (1, 2, 3)  # Immutable\n",
        "# my_tuple[0] = 4  # This will cause an error\n",
        "print(my_list)\n",
        "print(my_tuple)"
      ],
      "metadata": {
        "id": "Rcwdi3-Bd8gy",
        "colab": {
          "base_uri": "https://localhost:8080/"
        },
        "outputId": "361e7e7a-f8dc-4082-f4fc-315ed027a400"
      },
      "execution_count": null,
      "outputs": [
        {
          "output_type": "stream",
          "name": "stdout",
          "text": [
            "[1, 2, 3, 4]\n",
            "(1, 2, 3)\n"
          ]
        }
      ]
    },
    {
      "cell_type": "code",
      "source": [
        "# 3Q"
      ],
      "metadata": {
        "id": "Fek_bScoeHTy"
      },
      "execution_count": null,
      "outputs": []
    },
    {
      "cell_type": "markdown",
      "source": [
        "3. What are the main differences between lists and tuples in Python?\n",
        "Ans.-\n",
        "\n",
        "  Lists are mutable, while tuples are immutable.\n",
        "\n",
        "  Lists have dynamic size, whereas tuples have fixed size.\n",
        "\n",
        "  Tuples are faster and use less memory than lists."
      ],
      "metadata": {
        "id": "fKbnSDxreH0g"
      }
    },
    {
      "cell_type": "code",
      "source": [
        "# Example\n",
        "my_list = [1, 2, 3]  # Mutable\n",
        "my_tuple = (1, 2, 3)  # Immutable\n",
        "print(my_list)\n",
        "print(my_tuple)"
      ],
      "metadata": {
        "id": "0bIMlFKaeeYP",
        "colab": {
          "base_uri": "https://localhost:8080/"
        },
        "outputId": "c553fb4b-e65f-4070-ad15-d2982b758542"
      },
      "execution_count": null,
      "outputs": [
        {
          "output_type": "stream",
          "name": "stdout",
          "text": [
            "[1, 2, 3]\n",
            "(1, 2, 3)\n"
          ]
        }
      ]
    },
    {
      "cell_type": "code",
      "source": [
        "# 4Q"
      ],
      "metadata": {
        "id": "Z40j5lO0e18Q"
      },
      "execution_count": null,
      "outputs": []
    },
    {
      "cell_type": "markdown",
      "source": [
        "4. Describe how dictionaries store data.\n",
        "  \n",
        "  Ans.- Dictionaries store data as key-value pairs using a hash table. Each key is hashed to determine its storage location, making lookups very fast."
      ],
      "metadata": {
        "id": "OJcfbcuVe2P4"
      }
    },
    {
      "cell_type": "code",
      "source": [
        "# 5Q"
      ],
      "metadata": {
        "id": "dgH4_9sXfL0X"
      },
      "execution_count": null,
      "outputs": []
    },
    {
      "cell_type": "markdown",
      "source": [
        "5. Why might you use a set instead of a list in Python?\n",
        "\n",
        "   Ans.- Sets remove duplicate values automatically.\n",
        "\n",
        "   Searching in sets is faster vs. lists.\n",
        "\n",
        "   Useful when storing unique items.\n",
        "\n"
      ],
      "metadata": {
        "id": "EdV5oOGyfUuw"
      }
    },
    {
      "cell_type": "code",
      "source": [
        "# 6Q"
      ],
      "metadata": {
        "id": "GaJOZI-1fT21"
      },
      "execution_count": null,
      "outputs": []
    },
    {
      "cell_type": "markdown",
      "source": [
        "6. What is a string in Python, and how is it different from a list?\n",
        "\n",
        "   Ans.- A string is an immutable sequence of characters.\n",
        "\n",
        "   Unlike lists, strings cannot be modified in place.\n",
        "\n"
      ],
      "metadata": {
        "id": "2kUnWr3sfqXI"
      }
    },
    {
      "cell_type": "code",
      "source": [
        "# Example\n",
        "my_string = \"Hello\"  # Immutable\n",
        "# my_string[0] = 'J'  # This will cause an error"
      ],
      "metadata": {
        "id": "B6oyu50Tf1IG"
      },
      "execution_count": null,
      "outputs": []
    },
    {
      "cell_type": "code",
      "source": [
        "# 7Q"
      ],
      "metadata": {
        "id": "4OEmdtEtf8KU"
      },
      "execution_count": null,
      "outputs": []
    },
    {
      "cell_type": "markdown",
      "source": [
        "7. How do tuples ensure data integrity in Python?\n",
        "   \n",
        "   Ans.-Since tuples are immutable, their values cannot be changed, ensuring data consistency and preventing accidental modifications."
      ],
      "metadata": {
        "id": "L4RKfT7Sf_FQ"
      }
    },
    {
      "cell_type": "code",
      "source": [
        "# 8Q"
      ],
      "metadata": {
        "id": "Wh-lX5vDgNXd"
      },
      "execution_count": null,
      "outputs": []
    },
    {
      "cell_type": "markdown",
      "source": [
        "8. What is a hash table, and how does it relate to dictionaries in\n",
        "   Python?\n",
        "   \n",
        "   Ans.- A hash table is a data structure that maps keys to values using a hashing function. Python dictionaries use hash tables to provide fast lookup times."
      ],
      "metadata": {
        "id": "pBdeKL0Kgn8R"
      }
    },
    {
      "cell_type": "code",
      "source": [
        "# 9Q"
      ],
      "metadata": {
        "id": "9JOp6qnbgyQk"
      },
      "execution_count": null,
      "outputs": []
    },
    {
      "cell_type": "markdown",
      "source": [
        "9. Can lists contain different data types in Python?\n",
        "\n",
        "  Ans.-\n",
        "  Yes, lists in Python can hold elements of different types, such as integers, strings, and even other lists."
      ],
      "metadata": {
        "id": "PD8YRiL2hCMo"
      }
    },
    {
      "cell_type": "code",
      "source": [
        "# 10Q"
      ],
      "metadata": {
        "id": "ZJiKwAiyhB3_"
      },
      "execution_count": null,
      "outputs": []
    },
    {
      "cell_type": "markdown",
      "source": [
        "10. Explain why strings are immutable in Python.\n",
        "\n",
        "    Ans.- Strings are immutable to ensure security, thread safety, and efficient memory management."
      ],
      "metadata": {
        "id": "8AW84EHphBRI"
      }
    },
    {
      "cell_type": "code",
      "source": [
        "# 11Q"
      ],
      "metadata": {
        "id": "dFhGPgmZhe5p"
      },
      "execution_count": null,
      "outputs": []
    },
    {
      "cell_type": "markdown",
      "source": [
        "What advantages do dictionaries offer over lists for certain tasks?\n",
        "Ans.-\n",
        "\n",
        " Fast lookups.\n",
        "\n",
        " Key-value mapping allows structured data storage.\n",
        "\n",
        " More efficient for searching and organizing data."
      ],
      "metadata": {
        "id": "pBJ-deF2hlB4"
      }
    },
    {
      "cell_type": "code",
      "source": [
        "# 12Q"
      ],
      "metadata": {
        "id": "lQHW7SbEh06m"
      },
      "execution_count": null,
      "outputs": []
    },
    {
      "cell_type": "markdown",
      "source": [
        "12. Describe a scenario where using a tuple would be preferable over a\n",
        "    list.\n",
        "\n",
        "  \n",
        "    Ans.-\n",
        "    Tuples are preferred when:\n",
        "\n",
        "    Data should remain constant (e.g., database records).\n",
        "\n",
        "    Performance is critical (tuples are faster and use less memory).\n",
        "\n",
        "    Example: Storing coordinates (latitude, longitude)."
      ],
      "metadata": {
        "id": "fLM4tHAah7LI"
      }
    },
    {
      "cell_type": "code",
      "source": [
        "# 13Q"
      ],
      "metadata": {
        "id": "YmApt_CwiJcD"
      },
      "execution_count": null,
      "outputs": []
    },
    {
      "cell_type": "markdown",
      "source": [
        "13. How do sets handle duplicate values in Python?\n",
        "\n",
        "    Ans.- Sets automatically remove duplicate values."
      ],
      "metadata": {
        "id": "aULkhB16iXrg"
      }
    },
    {
      "cell_type": "code",
      "source": [
        "# Example\n",
        "my_set = {1, 2, 2, 3}\n",
        "print(my_set)  # Output: {1, 2, 3}\n"
      ],
      "metadata": {
        "colab": {
          "base_uri": "https://localhost:8080/"
        },
        "id": "jKfYOzlCigjz",
        "outputId": "5b12a00b-cfa9-41b1-b8ae-3e75b2500c74"
      },
      "execution_count": null,
      "outputs": [
        {
          "output_type": "stream",
          "name": "stdout",
          "text": [
            "{1, 2, 3}\n"
          ]
        }
      ]
    },
    {
      "cell_type": "code",
      "source": [
        "# 14Q"
      ],
      "metadata": {
        "id": "wQV7oAR0iqPm"
      },
      "execution_count": null,
      "outputs": []
    },
    {
      "cell_type": "markdown",
      "source": [
        "14. How does the in keyword work differently for lists and\n",
        "    dictionaries?\n",
        "\n",
        "Ans.-\n",
        "    In lists, 'in' checks if a value is present.\n",
        "\n",
        "  In dictionaries, 'in' checks if a key exists."
      ],
      "metadata": {
        "id": "8hWQCRaLiuAJ"
      }
    },
    {
      "cell_type": "code",
      "source": [
        "# 15Q"
      ],
      "metadata": {
        "id": "nonWkvIXi9Mb"
      },
      "execution_count": null,
      "outputs": []
    },
    {
      "cell_type": "markdown",
      "source": [
        "15. Can you modify the elements of a tuple? Explain why or why not?\n",
        "\n",
        "    Ans.- No, tuples are immutable, meaning elements cannot be modified after creation.\n",
        "\n"
      ],
      "metadata": {
        "id": "gn70-Fs4jiM5"
      }
    },
    {
      "cell_type": "code",
      "source": [
        "# 16Q"
      ],
      "metadata": {
        "id": "Rbu8NLfhjrsP"
      },
      "execution_count": null,
      "outputs": []
    },
    {
      "cell_type": "markdown",
      "source": [
        "16. What is a nested dictionary, and give an example of its use case?\n",
        "\n",
        "  Ans.- A nested dictionary is a dictionary inside another dictionary."
      ],
      "metadata": {
        "id": "cS8L1rwGkWhv"
      }
    },
    {
      "cell_type": "code",
      "source": [
        "# Example\n",
        "student = {\n",
        "    \"name\": \"Anshul Garg\",\n",
        "    \"age\": 20,\n",
        "    \"grades\": {\n",
        "        \"math\": 90,\n",
        "        \"science\": 85,\n",
        "        \"history\": 78\n",
        "    }\n",
        "}\n",
        "print(student[\"name\"])\n",
        "print(student[\"grades\"][\"math\"])"
      ],
      "metadata": {
        "colab": {
          "base_uri": "https://localhost:8080/"
        },
        "id": "L2an8uUGkdMa",
        "outputId": "790de6bb-9162-4bc3-e44c-7ed9c23176a3"
      },
      "execution_count": null,
      "outputs": [
        {
          "output_type": "stream",
          "name": "stdout",
          "text": [
            "Anshul Garg\n",
            "90\n"
          ]
        }
      ]
    },
    {
      "cell_type": "code",
      "source": [
        "# 17Q"
      ],
      "metadata": {
        "id": "bbZmBvxGk3D4"
      },
      "execution_count": null,
      "outputs": []
    },
    {
      "cell_type": "markdown",
      "source": [
        "17. Describe the time complexity of accessing elements in a dictionary.\n",
        "\n",
        "    Ans.- The time complexity is  on average due to hash table indexing.\n",
        "\n"
      ],
      "metadata": {
        "id": "tZyL60AQlLSY"
      }
    },
    {
      "cell_type": "code",
      "source": [
        "# 18Q"
      ],
      "metadata": {
        "id": "Kv5cT-DblW3q"
      },
      "execution_count": null,
      "outputs": []
    },
    {
      "cell_type": "markdown",
      "source": [
        "18. In what situations are lists preferred over dictionaries?\n",
        "\n",
        "Ans.-\n",
        "    1.When order is important.\n",
        "     \n",
        "  2.When elements do not require key-value mapping.\n",
        "    \n",
        "  3.When sequential data storage is needed."
      ],
      "metadata": {
        "id": "bqkEkJfxlj2w"
      }
    },
    {
      "cell_type": "code",
      "source": [
        "# 19Q"
      ],
      "metadata": {
        "id": "GpYNpbyilthY"
      },
      "execution_count": null,
      "outputs": []
    },
    {
      "cell_type": "markdown",
      "source": [
        "19. Why are dictionaries considered unordered, and how does that\n",
        "    affect data retrieval?\n",
        "\n",
        "   Ans.- Dictionaries are unordered because they store elements based on hash values, not sequence."
      ],
      "metadata": {
        "id": "ZaYQs3PamEFo"
      }
    },
    {
      "cell_type": "code",
      "source": [
        "# 20Q"
      ],
      "metadata": {
        "id": "wmQkI1NYmLmR"
      },
      "execution_count": null,
      "outputs": []
    },
    {
      "cell_type": "markdown",
      "source": [
        "20. Explain the difference between a list and a dictionary in terms of\n",
        "    data retrieval.\n",
        "\n",
        "Ans.- 1.List retrieval requires an index.\n",
        "\n",
        "2.Dictionary retrieval uses a key."
      ],
      "metadata": {
        "id": "OH-AHMnBmZl5"
      }
    },
    {
      "cell_type": "code",
      "source": [],
      "metadata": {
        "id": "HkselFiCmzCo"
      },
      "execution_count": null,
      "outputs": []
    },
    {
      "cell_type": "code",
      "source": [],
      "metadata": {
        "id": "GRrc3jxaoUZn"
      },
      "execution_count": null,
      "outputs": []
    },
    {
      "cell_type": "code",
      "source": [],
      "metadata": {
        "id": "SwxnYBpvoUVn"
      },
      "execution_count": null,
      "outputs": []
    },
    {
      "cell_type": "markdown",
      "source": [
        "Data Structure -Practical Question"
      ],
      "metadata": {
        "id": "Kgh2TMQ8nwuK"
      }
    },
    {
      "cell_type": "code",
      "source": [
        "# 1Q  DP Write a code to create a string with your name and print it?\n",
        "name = \"Anshul Garg\"\n",
        "print(name)\n"
      ],
      "metadata": {
        "id": "vGRLK1vrodxt",
        "colab": {
          "base_uri": "https://localhost:8080/"
        },
        "outputId": "1ab35850-6692-4c4d-d723-89c165f44541"
      },
      "execution_count": 1,
      "outputs": [
        {
          "output_type": "stream",
          "name": "stdout",
          "text": [
            "Anshul Garg\n"
          ]
        }
      ]
    },
    {
      "cell_type": "code",
      "source": [
        "# 2Q Write a code to find the length of the string \"Hello World\".\n",
        "string = \"Hello World\"\n",
        "length = len(string)\n",
        "print(length)\n",
        "\n"
      ],
      "metadata": {
        "colab": {
          "base_uri": "https://localhost:8080/"
        },
        "id": "P_cbTDxesS58",
        "outputId": "63b169f3-bb88-46cb-e3de-61f6e32e4eb2"
      },
      "execution_count": 3,
      "outputs": [
        {
          "output_type": "stream",
          "name": "stdout",
          "text": [
            "11\n"
          ]
        }
      ]
    },
    {
      "cell_type": "code",
      "source": [
        "# 3Q  Write a code to slice the first 3 characters from the string \"Python Programming\"\n",
        "string = \"Python Programming\"\n",
        "sliced_string = string[0:3]\n",
        "print(sliced_string)\n"
      ],
      "metadata": {
        "colab": {
          "base_uri": "https://localhost:8080/"
        },
        "id": "5UvvMZ3osygl",
        "outputId": "13521423-8dd7-4f88-db22-a7cc45a6b4f4"
      },
      "execution_count": 4,
      "outputs": [
        {
          "output_type": "stream",
          "name": "stdout",
          "text": [
            "Pyt\n"
          ]
        }
      ]
    },
    {
      "cell_type": "code",
      "source": [
        "# 4Q  Write a code to convert the string \"hello\" to uppercase.\n",
        "string = \"hello\"\n",
        "string.upper()\n",
        "\n"
      ],
      "metadata": {
        "colab": {
          "base_uri": "https://localhost:8080/",
          "height": 35
        },
        "id": "nF3oj0-ytAer",
        "outputId": "e9fc5d58-2ca2-4c8f-af6b-69f3cbbe2f5f"
      },
      "execution_count": 8,
      "outputs": [
        {
          "output_type": "execute_result",
          "data": {
            "text/plain": [
              "'HELLO'"
            ],
            "application/vnd.google.colaboratory.intrinsic+json": {
              "type": "string"
            }
          },
          "metadata": {},
          "execution_count": 8
        }
      ]
    },
    {
      "cell_type": "code",
      "source": [
        "# 5Q (P Write a code to replace the word \"apple\" with \"orange\" in the string \"I like apple\"P\n",
        "string = \"I like apple\"\n",
        "s_replace = string.replace(\"apple\", \"orange\")\n",
        "print(s_replace)\n"
      ],
      "metadata": {
        "colab": {
          "base_uri": "https://localhost:8080/"
        },
        "id": "QtfXLxDEtL-5",
        "outputId": "f6580e5e-31b8-4190-e533-2a87a8510a6d"
      },
      "execution_count": 9,
      "outputs": [
        {
          "output_type": "stream",
          "name": "stdout",
          "text": [
            "I like orange\n"
          ]
        }
      ]
    },
    {
      "cell_type": "code",
      "source": [
        "# 6Q  Write a code to create a list with numbers 1 to 5 and print it.\n",
        "list = [1,2,3,4,5]\n",
        "print(list)\n"
      ],
      "metadata": {
        "colab": {
          "base_uri": "https://localhost:8080/"
        },
        "id": "aBbP-RbMtsZ3",
        "outputId": "55d1b5a1-90de-4c25-85c1-28fcfff0049e"
      },
      "execution_count": 10,
      "outputs": [
        {
          "output_type": "stream",
          "name": "stdout",
          "text": [
            "[1, 2, 3, 4, 5]\n"
          ]
        }
      ]
    },
    {
      "cell_type": "code",
      "source": [
        "# 7Q 'P Write a code to append the number 10 to the list [1, 2, 3, 4]P\n",
        "list = [1,2,3,4]\n",
        "list.append(10)\n",
        "print(list)"
      ],
      "metadata": {
        "colab": {
          "base_uri": "https://localhost:8080/"
        },
        "id": "8opr0eMtuEW9",
        "outputId": "f4dbf349-9560-46b5-9717-a47d526e48fa"
      },
      "execution_count": 11,
      "outputs": [
        {
          "output_type": "stream",
          "name": "stdout",
          "text": [
            "[1, 2, 3, 4, 10]\n"
          ]
        }
      ]
    },
    {
      "cell_type": "code",
      "source": [
        "# 8Q Write a code to remove the number 3 from the list [1, 2, 3, 4, 5]\n",
        "list = [1,2,3,4,5]\n",
        "list.remove(3)\n",
        "print(list)\n"
      ],
      "metadata": {
        "colab": {
          "base_uri": "https://localhost:8080/"
        },
        "id": "iAM1viQpuMj5",
        "outputId": "0841f6fa-e2f6-4c8f-eb23-9d2348f22c5a"
      },
      "execution_count": 12,
      "outputs": [
        {
          "output_type": "stream",
          "name": "stdout",
          "text": [
            "[1, 2, 4, 5]\n"
          ]
        }
      ]
    },
    {
      "cell_type": "code",
      "source": [
        "# 9Q  Write a code to access the second element in the list ['a', 'b', 'c', 'd']\n",
        "list = ['a', 'b', 'c', 'd']\n",
        "print(list[1])"
      ],
      "metadata": {
        "colab": {
          "base_uri": "https://localhost:8080/"
        },
        "id": "v4Gdu6dBuWt0",
        "outputId": "21308252-2359-4e43-987e-77e16d0eb85f"
      },
      "execution_count": 13,
      "outputs": [
        {
          "output_type": "stream",
          "name": "stdout",
          "text": [
            "b\n"
          ]
        }
      ]
    },
    {
      "cell_type": "code",
      "source": [
        "# 10Q Write a code to reverse the list [10, 20, 30, 40, 50].\n",
        "list = [10,20,30,40,50]\n",
        "lis_reverse = list[::-1]\n",
        "print(lis_reverse)"
      ],
      "metadata": {
        "colab": {
          "base_uri": "https://localhost:8080/"
        },
        "id": "ke8I8uJEuhTH",
        "outputId": "f5430f8f-3e9d-4f0e-8186-9a1866e5f486"
      },
      "execution_count": 21,
      "outputs": [
        {
          "output_type": "stream",
          "name": "stdout",
          "text": [
            "[50, 40, 30, 20, 10]\n"
          ]
        }
      ]
    },
    {
      "cell_type": "code",
      "source": [
        "# 11Q Write a code to create a tuple with the elements 100, 200, 300 and print it.\n",
        "tuple = (100,200,300)\n",
        "print(tuple)"
      ],
      "metadata": {
        "colab": {
          "base_uri": "https://localhost:8080/"
        },
        "id": "5tXw0ee1vBL-",
        "outputId": "ba3e3d32-bf9c-4f9c-e801-1023fe07b369"
      },
      "execution_count": 23,
      "outputs": [
        {
          "output_type": "stream",
          "name": "stdout",
          "text": [
            "(100, 200, 300)\n"
          ]
        }
      ]
    },
    {
      "cell_type": "code",
      "source": [
        "# 12Q 12. Write a code to access the second-to-last element of the tuple ('red', 'green', 'blue', 'yellow').\n",
        "tuple = ('red', 'green', 'blue', 'yellow')\n",
        "print(tuple[1:4])"
      ],
      "metadata": {
        "colab": {
          "base_uri": "https://localhost:8080/"
        },
        "id": "9hUFW-QAvd4l",
        "outputId": "6b977ffe-ba7f-48fc-ff66-bd25c32c1e1b"
      },
      "execution_count": 24,
      "outputs": [
        {
          "output_type": "stream",
          "name": "stdout",
          "text": [
            "('green', 'blue', 'yellow')\n"
          ]
        }
      ]
    },
    {
      "cell_type": "code",
      "source": [
        "# 13. Write a code to find the minimum number in the tuple (10, 20, 5, 15).\n",
        "tuple = (10, 20, 5, 15)\n",
        "print(min(tuple))"
      ],
      "metadata": {
        "colab": {
          "base_uri": "https://localhost:8080/"
        },
        "id": "41P0QgHgv7zh",
        "outputId": "bb05026c-6529-4384-a8cd-de6b8df40a85"
      },
      "execution_count": 27,
      "outputs": [
        {
          "output_type": "stream",
          "name": "stdout",
          "text": [
            "5\n"
          ]
        }
      ]
    },
    {
      "cell_type": "code",
      "source": [
        "# 14. Write a code to find the index of the element \"cat\" in the tuple ('dog', 'cat', 'rabbit').\n",
        "tuple = ('dog', 'cat', 'rabbit')\n",
        "tuple.index('cat')"
      ],
      "metadata": {
        "colab": {
          "base_uri": "https://localhost:8080/"
        },
        "id": "gkw-g9QnwKrl",
        "outputId": "313b6b06-23bd-4344-b38b-713f0e91cdb4"
      },
      "execution_count": 29,
      "outputs": [
        {
          "output_type": "execute_result",
          "data": {
            "text/plain": [
              "1"
            ]
          },
          "metadata": {},
          "execution_count": 29
        }
      ]
    },
    {
      "cell_type": "code",
      "source": [
        "# 15. Write a code to create a tuple containing three different fruits and check if \"kiwi\" is in it.\n",
        "tuple = ('apple', 'banana', 'kiwi')\n",
        "'kiwi' in tuple"
      ],
      "metadata": {
        "colab": {
          "base_uri": "https://localhost:8080/"
        },
        "id": "FPZJ-PkAwaua",
        "outputId": "3e712835-5890-4fcd-a71a-4f12683445a4"
      },
      "execution_count": 31,
      "outputs": [
        {
          "output_type": "execute_result",
          "data": {
            "text/plain": [
              "True"
            ]
          },
          "metadata": {},
          "execution_count": 31
        }
      ]
    },
    {
      "cell_type": "code",
      "source": [
        "# 16. Write a code to create a set with the elements 'a', 'b', 'c' and print it.\n",
        "set = {'a','b','c'}\n",
        "print(set)  # sets are unordered data type"
      ],
      "metadata": {
        "colab": {
          "base_uri": "https://localhost:8080/"
        },
        "id": "ZuIjVoCowtQ9",
        "outputId": "76f56c58-d669-483d-ac22-3095901a3520"
      },
      "execution_count": 37,
      "outputs": [
        {
          "output_type": "stream",
          "name": "stdout",
          "text": [
            "{'c', 'a', 'b'}\n"
          ]
        }
      ]
    },
    {
      "cell_type": "code",
      "source": [
        "# 17 Write a code to clear all elements from the set {1, 2, 3, 4, 5}.\n",
        "set = {1,2,3,4,5}\n",
        "set.clear()\n",
        "print(set)"
      ],
      "metadata": {
        "colab": {
          "base_uri": "https://localhost:8080/"
        },
        "id": "HzAYVMTTw86M",
        "outputId": "dc81326d-9617-4414-f5b7-ec055cf6a3a4"
      },
      "execution_count": 38,
      "outputs": [
        {
          "output_type": "stream",
          "name": "stdout",
          "text": [
            "set()\n"
          ]
        }
      ]
    },
    {
      "cell_type": "code",
      "source": [
        "set"
      ],
      "metadata": {
        "colab": {
          "base_uri": "https://localhost:8080/"
        },
        "id": "gEqJd_9qxY33",
        "outputId": "a9795f02-d6ea-4b94-f8fc-e7c0cf17841c"
      },
      "execution_count": 39,
      "outputs": [
        {
          "output_type": "execute_result",
          "data": {
            "text/plain": [
              "set()"
            ]
          },
          "metadata": {},
          "execution_count": 39
        }
      ]
    },
    {
      "cell_type": "code",
      "source": [
        "# 18. Write a code to remove the element 4 from the set {1, 2, 3, 4}.\n",
        "set = {1,2,3,4}\n",
        "set.remove(4)\n",
        "print(set)"
      ],
      "metadata": {
        "colab": {
          "base_uri": "https://localhost:8080/"
        },
        "id": "bXfhZv9jxaij",
        "outputId": "5c8d7d16-09d4-473c-ab7c-0ae8c0fa8309"
      },
      "execution_count": 40,
      "outputs": [
        {
          "output_type": "stream",
          "name": "stdout",
          "text": [
            "{1, 2, 3}\n"
          ]
        }
      ]
    },
    {
      "cell_type": "code",
      "source": [
        "# 19. Write a code to find the union of two sets {1, 2, 3} and {3, 4, 5}\n",
        "set1 = {1,2,3}\n",
        "set2 = {3,4,5}\n",
        "set1 | set2"
      ],
      "metadata": {
        "colab": {
          "base_uri": "https://localhost:8080/"
        },
        "id": "ISHq73FfxhpV",
        "outputId": "ae6d3bf5-3626-4b4f-e56f-c8873a8b8dfc"
      },
      "execution_count": 43,
      "outputs": [
        {
          "output_type": "execute_result",
          "data": {
            "text/plain": [
              "{1, 2, 3, 4, 5}"
            ]
          },
          "metadata": {},
          "execution_count": 43
        }
      ]
    },
    {
      "cell_type": "code",
      "source": [
        "set1 = {1,2,3}\n",
        "set2 = {3,4,5}\n",
        "set1.union(set2)"
      ],
      "metadata": {
        "colab": {
          "base_uri": "https://localhost:8080/"
        },
        "id": "nyvcCo5Tx1FN",
        "outputId": "ce43a703-5f38-4736-a068-f6806d5de42c"
      },
      "execution_count": 44,
      "outputs": [
        {
          "output_type": "execute_result",
          "data": {
            "text/plain": [
              "{1, 2, 3, 4, 5}"
            ]
          },
          "metadata": {},
          "execution_count": 44
        }
      ]
    },
    {
      "cell_type": "code",
      "source": [
        "# 20. Write a code to find the intersection of two sets {1, 2, 3} and {2, 3, 4}.\n",
        "set1 = {1,2,3}\n",
        "set2 = {2,3,4}\n",
        "set1 & set2"
      ],
      "metadata": {
        "colab": {
          "base_uri": "https://localhost:8080/"
        },
        "id": "YrtCA9epx9QI",
        "outputId": "4fb8871f-4b2d-4350-a7bc-2e163549d181"
      },
      "execution_count": 45,
      "outputs": [
        {
          "output_type": "execute_result",
          "data": {
            "text/plain": [
              "{2, 3}"
            ]
          },
          "metadata": {},
          "execution_count": 45
        }
      ]
    },
    {
      "cell_type": "code",
      "source": [
        "set1 = {1,2,3}\n",
        "set2 = {2,3,4}\n",
        "set1.intersection(set2)"
      ],
      "metadata": {
        "colab": {
          "base_uri": "https://localhost:8080/"
        },
        "id": "Q55wBmHZyQXE",
        "outputId": "6a3a1e84-d9b9-41c1-f745-ed3efdcae2ef"
      },
      "execution_count": 46,
      "outputs": [
        {
          "output_type": "execute_result",
          "data": {
            "text/plain": [
              "{2, 3}"
            ]
          },
          "metadata": {},
          "execution_count": 46
        }
      ]
    },
    {
      "cell_type": "code",
      "source": [
        "# 21. Write a code to create a dictionary with the keys \"name\", \"age\", and \"city\", and print it.\n",
        "dict = {\n",
        "    \"name\" : \"Anshul Garg\",\n",
        "    \"age\" : 19,\n",
        "    \"city\" : \"Delhi\"\n",
        "}\n",
        "print(dict)"
      ],
      "metadata": {
        "colab": {
          "base_uri": "https://localhost:8080/"
        },
        "id": "nEt5A3_QybZN",
        "outputId": "b5adae32-e1fe-4f56-a465-89049c909396"
      },
      "execution_count": 48,
      "outputs": [
        {
          "output_type": "stream",
          "name": "stdout",
          "text": [
            "{'name': 'Anshul Garg', 'age': 19, 'city': 'Delhi'}\n"
          ]
        }
      ]
    },
    {
      "cell_type": "code",
      "source": [
        "# 22. Write a code to add a new key-value pair \"country\": \"USA\" to the dictionary {'name': 'John', 'age': 25}.\n",
        "dict = {\"name\":\"John\", \"age\":25,}\n",
        "dict[\"country\"] = \"USA\"\n",
        "print(dict)\n"
      ],
      "metadata": {
        "colab": {
          "base_uri": "https://localhost:8080/"
        },
        "id": "77lJvcg4y0OP",
        "outputId": "9943265c-1ec4-4908-e991-6b0f3ed4703c"
      },
      "execution_count": 52,
      "outputs": [
        {
          "output_type": "stream",
          "name": "stdout",
          "text": [
            "{'name': 'John', 'age': 25, 'country': 'USA'}\n"
          ]
        }
      ]
    },
    {
      "cell_type": "code",
      "source": [
        "# 23. Write a code to access the value associated with the key \"name\" in the dictionary {'name': 'Alice', 'age': 30}.\n",
        "dict = {'name': 'Alice', 'age': 30}\n",
        "dict[\"name\"]"
      ],
      "metadata": {
        "colab": {
          "base_uri": "https://localhost:8080/",
          "height": 35
        },
        "id": "WY3UnJvqy_gQ",
        "outputId": "1b1a337b-a07e-4051-d00b-5e88c5afa06f"
      },
      "execution_count": 53,
      "outputs": [
        {
          "output_type": "execute_result",
          "data": {
            "text/plain": [
              "'Alice'"
            ],
            "application/vnd.google.colaboratory.intrinsic+json": {
              "type": "string"
            }
          },
          "metadata": {},
          "execution_count": 53
        }
      ]
    },
    {
      "cell_type": "code",
      "source": [
        "# 24. Write a code to remove the key \"age\" from the dictionary {'name': 'Bob', 'age': 22, 'city': 'New York'}.\n",
        "dict = {\"name\": \"bob\", \"age\":22, \"city\": \"New York\"}\n",
        "dict.pop(\"age\")\n",
        "print(dict)"
      ],
      "metadata": {
        "colab": {
          "base_uri": "https://localhost:8080/"
        },
        "id": "uG98YiQwzMn-",
        "outputId": "1188a88a-a6fe-4798-f9d4-a13528625190"
      },
      "execution_count": 56,
      "outputs": [
        {
          "output_type": "stream",
          "name": "stdout",
          "text": [
            "{'name': 'bob', 'city': 'New York'}\n"
          ]
        }
      ]
    },
    {
      "cell_type": "code",
      "source": [
        "# 25. Write a code to check if the key \"city\" exists in the dictionary {'name': 'Alice', 'city': 'Paris'}.\n",
        "dict = {\"name\":\"Alice\",\"city\":\"Paris\"}\n",
        "\"city\" in dict"
      ],
      "metadata": {
        "colab": {
          "base_uri": "https://localhost:8080/"
        },
        "id": "bMf3avnu0SGP",
        "outputId": "c32e3d6d-c25a-49e9-ddb2-a6b91dc026e2"
      },
      "execution_count": 60,
      "outputs": [
        {
          "output_type": "execute_result",
          "data": {
            "text/plain": [
              "True"
            ]
          },
          "metadata": {},
          "execution_count": 60
        }
      ]
    },
    {
      "cell_type": "code",
      "source": [
        "# 26. Write a code to create a list, a tuple, and a dictionary, and print them all.\n",
        "list = [1,2,3,4,5]\n",
        "tuple = (1,2,3,4,5)\n",
        "dict = {\"name\":\"Anshul Garg\", \"age\":19}\n",
        "print(list)\n",
        "print(tuple)\n",
        "print(dict)"
      ],
      "metadata": {
        "colab": {
          "base_uri": "https://localhost:8080/"
        },
        "id": "nLzAALqT0xFe",
        "outputId": "9fc32212-c47a-466a-d289-5f77b301159f"
      },
      "execution_count": 61,
      "outputs": [
        {
          "output_type": "stream",
          "name": "stdout",
          "text": [
            "[1, 2, 3, 4, 5]\n",
            "(1, 2, 3, 4, 5)\n",
            "{'name': 'Anshul Garg', 'age': 19}\n"
          ]
        }
      ]
    },
    {
      "cell_type": "code",
      "source": [
        "''' 27. Write a code to create a list of 5 random numbers between 1 and 100, sort it in ascending order, and print the\n",
        "result.(replaced)'''\n",
        "import random\n",
        "list = [random.sample(range(1,100),5)]\n",
        "list.sort()\n",
        "print(list)\n"
      ],
      "metadata": {
        "colab": {
          "base_uri": "https://localhost:8080/"
        },
        "id": "w5CtxHRC1EgT",
        "outputId": "788242ac-93d1-4dbf-d12b-2b3b1d492d8e"
      },
      "execution_count": 77,
      "outputs": [
        {
          "output_type": "stream",
          "name": "stdout",
          "text": [
            "[[86, 38, 32, 41, 21]]\n"
          ]
        }
      ]
    },
    {
      "cell_type": "code",
      "source": [
        "# 28. Write a code to create a list with strings and print the element at the third index\n",
        "list = [\"Anshul\", \"Garg\", \"Delhi\"]\n",
        "print(list[2])\n",
        "list.index(\"Delhi\")"
      ],
      "metadata": {
        "colab": {
          "base_uri": "https://localhost:8080/"
        },
        "id": "hloIOJdf1eJh",
        "outputId": "588a7cde-d09a-4953-baa0-62dcf04d3275"
      },
      "execution_count": 85,
      "outputs": [
        {
          "output_type": "stream",
          "name": "stdout",
          "text": [
            "Delhi\n"
          ]
        },
        {
          "output_type": "execute_result",
          "data": {
            "text/plain": [
              "2"
            ]
          },
          "metadata": {},
          "execution_count": 85
        }
      ]
    },
    {
      "cell_type": "code",
      "source": [
        "# 29. Write a code to combine two dictionaries into one and print the result.\n",
        "dict1 = {\"name\":\"Anshul Garg\", \"age\":19}\n",
        "dict2 = {\"city\":\"Delhi\", \"state\":\"Delhi\"}\n",
        "dict1.update(dict2)\n",
        "print(dict1)\n",
        "#or\n",
        "dict3 = {**dict1, **dict2}\n",
        "print(dict3)"
      ],
      "metadata": {
        "colab": {
          "base_uri": "https://localhost:8080/"
        },
        "id": "TwDK8v1J3hKB",
        "outputId": "17a7cde5-1ad1-47e9-ddf6-3cf469a62d8c"
      },
      "execution_count": 87,
      "outputs": [
        {
          "output_type": "stream",
          "name": "stdout",
          "text": [
            "{'name': 'Anshul Garg', 'age': 19, 'city': 'Delhi', 'state': 'Delhi'}\n",
            "{'name': 'Anshul Garg', 'age': 19, 'city': 'Delhi', 'state': 'Delhi'}\n"
          ]
        }
      ]
    },
    {
      "cell_type": "code",
      "source": [
        "# 30. Write a code to convert a list of strings into a set.\n",
        "list = [\"Anshul\", \"Garg\", \"Delhi\"]\n",
        "set(list)"
      ],
      "metadata": {
        "colab": {
          "base_uri": "https://localhost:8080/"
        },
        "id": "ILoS3Yr_4faF",
        "outputId": "f82924db-17e2-49f7-fe61-e7877f265daa"
      },
      "execution_count": 3,
      "outputs": [
        {
          "output_type": "execute_result",
          "data": {
            "text/plain": [
              "{'Anshul', 'Delhi', 'Garg'}"
            ]
          },
          "metadata": {},
          "execution_count": 3
        }
      ]
    },
    {
      "cell_type": "code",
      "source": [],
      "metadata": {
        "id": "oKgMdskj5p1b"
      },
      "execution_count": null,
      "outputs": []
    }
  ]
}